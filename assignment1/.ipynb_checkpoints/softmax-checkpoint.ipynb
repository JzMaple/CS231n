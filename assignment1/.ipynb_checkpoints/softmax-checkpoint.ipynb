{
 "cells": [
  {
   "cell_type": "markdown",
   "metadata": {},
   "source": [
    "# Softmax exercise\n",
    "\n",
    "*ATTENTION: When hand in your homework, all print info has to be kept which means that output results of each cell could be seen in your submissions. Homework scores will be judged by those print info. So show us the best result in your experiment. More details can be found in assignment1_tutor.pdf.\n",
    "\n",
    "This exercise is analogous to the SVM exercise. You will:\n",
    "\n",
    "- implement a fully-vectorized **loss function** for the Softmax classifier\n",
    "- implement the fully-vectorized expression for its **analytic gradient**\n",
    "- **check your implementation** with numerical gradient\n",
    "- use a validation set to **tune the learning rate and regularization** strength\n",
    "- **optimize** the loss function with **SGD**\n",
    "- **visualize** the final learned weights\n"
   ]
  },
  {
   "cell_type": "code",
   "execution_count": 1,
   "metadata": {},
   "outputs": [],
   "source": [
    "import random\n",
    "import numpy as np\n",
    "from MS325.datasets.fashion_mnist.utils import mnist_reader\n",
    "import matplotlib.pyplot as plt\n",
    "\n",
    "from __future__ import print_function\n",
    "\n",
    "%matplotlib inline\n",
    "plt.rcParams['figure.figsize'] = (10.0, 8.0) # set default size of plots\n",
    "plt.rcParams['image.interpolation'] = 'nearest'\n",
    "plt.rcParams['image.cmap'] = 'gray'\n",
    "\n",
    "# for auto-reloading extenrnal modules\n",
    "# see http://stackoverflow.com/questions/1907993/autoreload-of-modules-in-ipython\n",
    "%load_ext autoreload\n",
    "%autoreload 2"
   ]
  },
  {
   "cell_type": "code",
   "execution_count": 2,
   "metadata": {},
   "outputs": [
    {
     "name": "stdout",
     "output_type": "stream",
     "text": [
      "Train data shape:  (58000, 785)\n",
      "Train labels shape:  (58000,)\n",
      "Validation data shape:  (2000, 785)\n",
      "Validation labels shape:  (2000,)\n",
      "Test data shape:  (10000, 785)\n",
      "Test labels shape:  (10000,)\n",
      "dev data shape:  (1000, 785)\n",
      "dev labels shape:  (1000,)\n"
     ]
    }
   ],
   "source": [
    "def get_mnist_data(num_training=58000, num_validation=2000, num_test=10000, num_dev=1000):\n",
    "    \"\"\"\n",
    "    Load the Fashion_mnist dataset from disk and perform preprocessing to prepare\n",
    "    it for the linear classifier. These are the same steps as we used for the\n",
    "    SVM, but condensed to a single function.  \n",
    "    \"\"\"\n",
    "    # Load the raw Fashion_mnist data\n",
    "    X_train, y_train = mnist_reader.load_mnist('MS325/datasets/fashion_mnist/data/fashion', kind='train')\n",
    "    X_test, y_test = mnist_reader.load_mnist('MS325/datasets/fashion_mnist/data/fashion', kind='t10k')\n",
    "    \n",
    "    # subsample the data\n",
    "    mask = list(range(num_training, num_training + num_validation))\n",
    "    X_val = X_train[mask]\n",
    "    y_val = y_train[mask]\n",
    "    mask = list(range(num_training))\n",
    "    X_train = X_train[mask]\n",
    "    y_train = y_train[mask]\n",
    "    mask = list(range(num_test))\n",
    "    X_test = X_test[mask]\n",
    "    y_test = y_test[mask]\n",
    "    mask = np.random.choice(num_training, num_dev, replace=False)\n",
    "    X_dev = X_train[mask]\n",
    "    y_dev = y_train[mask]\n",
    "    \n",
    "    # Preprocessing: reshape the image data into rows\n",
    "    X_train = np.reshape(X_train, (X_train.shape[0], -1))\n",
    "    X_val = np.reshape(X_val, (X_val.shape[0], -1))\n",
    "    X_test = np.reshape(X_test, (X_test.shape[0], -1))\n",
    "    X_dev = np.reshape(X_dev, (X_dev.shape[0], -1))\n",
    "    \n",
    "    # Normalize the data: subtract the mean image\n",
    "    mean_image = np.mean(X_train, axis = 0).astype('uint8')\n",
    "    X_train -= mean_image\n",
    "    X_val -= mean_image\n",
    "    X_test -= mean_image\n",
    "    X_dev -= mean_image\n",
    "    \n",
    "    # add bias dimension and transform into columns\n",
    "    X_train = np.hstack([X_train, np.ones((X_train.shape[0], 1))])\n",
    "    X_val = np.hstack([X_val, np.ones((X_val.shape[0], 1))])\n",
    "    X_test = np.hstack([X_test, np.ones((X_test.shape[0], 1))])\n",
    "    X_dev = np.hstack([X_dev, np.ones((X_dev.shape[0], 1))])\n",
    "    \n",
    "    return X_train, y_train, X_val, y_val, X_test, y_test, X_dev, y_dev\n",
    "\n",
    "\n",
    "# Invoke the above function to get our data.\n",
    "X_train, y_train, X_val, y_val, X_test, y_test, X_dev, y_dev = get_mnist_data()\n",
    "print('Train data shape: ', X_train.shape)\n",
    "print('Train labels shape: ', y_train.shape)\n",
    "print('Validation data shape: ', X_val.shape)\n",
    "print('Validation labels shape: ', y_val.shape)\n",
    "print('Test data shape: ', X_test.shape)\n",
    "print('Test labels shape: ', y_test.shape)\n",
    "print('dev data shape: ', X_dev.shape)\n",
    "print('dev labels shape: ', y_dev.shape)"
   ]
  },
  {
   "cell_type": "markdown",
   "metadata": {},
   "source": [
    "## Softmax Classifier\n",
    "\n",
    "Your code for this section will all be written inside **MS325/classifiers/softmax.py**. \n"
   ]
  },
  {
   "cell_type": "code",
   "execution_count": 3,
   "metadata": {},
   "outputs": [
    {
     "name": "stdout",
     "output_type": "stream",
     "text": [
      "loss: 2.397092\n",
      "sanity check: 2.302585\n"
     ]
    }
   ],
   "source": [
    "# First implement the naive softmax loss function with nested loops.\n",
    "# Open the file MS325/classifiers/softmax.py and implement the\n",
    "# softmax_loss_naive function.\n",
    "\n",
    "from MS325.classifiers.softmax import softmax_loss_naive\n",
    "import time\n",
    "\n",
    "# Generate a random softmax weight matrix and use it to compute the loss.\n",
    "W = np.random.randn(785, 10) * 0.0001\n",
    "loss, grad = softmax_loss_naive(W, X_dev, y_dev, 0.0)\n",
    "\n",
    "# As a rough sanity check, our loss should be something close to -log(0.1).\n",
    "print('loss: %f' % loss)\n",
    "print('sanity check: %f' % (-np.log(0.1)))"
   ]
  },
  {
   "cell_type": "markdown",
   "metadata": {},
   "source": [
    "## Inline Question 1:\n",
    "Why do we expect our loss to be close to -log(0.1)? Explain briefly.**\n",
    "\n",
    "**Your answer:** *Fill this in*\n"
   ]
  },
  {
   "cell_type": "code",
   "execution_count": 4,
   "metadata": {},
   "outputs": [
    {
     "name": "stdout",
     "output_type": "stream",
     "text": [
      "numerical: -5.242781 analytic: -1.392775, relative error: 5.802084e-01\n",
      "numerical: 3.833210 analytic: -2.596160, relative error: 1.000000e+00\n",
      "numerical: 2.560980 analytic: 0.035990, relative error: 9.722830e-01\n",
      "numerical: -6.178572 analytic: -2.720788, relative error: 3.885430e-01\n",
      "numerical: 9.927061 analytic: 3.579272, relative error: 4.699861e-01\n",
      "numerical: 1.306235 analytic: -6.573333, relative error: 1.000000e+00\n",
      "numerical: -4.934818 analytic: -2.534684, relative error: 3.213246e-01\n",
      "numerical: 4.579350 analytic: 1.385888, relative error: 5.353453e-01\n",
      "numerical: -0.886029 analytic: 2.382424, relative error: 1.000000e+00\n",
      "numerical: 2.173150 analytic: -2.988853, relative error: 1.000000e+00\n",
      "numerical: 0.005231 analytic: 0.002929, relative error: 2.820915e-01\n",
      "numerical: -0.984982 analytic: -8.425531, relative error: 7.906634e-01\n",
      "numerical: 4.318057 analytic: 0.958507, relative error: 6.366928e-01\n",
      "numerical: 3.310486 analytic: -1.254061, relative error: 1.000000e+00\n",
      "numerical: -5.898404 analytic: -0.611360, relative error: 8.121713e-01\n",
      "numerical: 3.355357 analytic: -3.429547, relative error: 1.000000e+00\n",
      "numerical: 1.243277 analytic: -6.585481, relative error: 1.000000e+00\n",
      "numerical: 13.387802 analytic: 3.677199, relative error: 5.690362e-01\n",
      "numerical: -3.569208 analytic: -8.851466, relative error: 4.252795e-01\n",
      "numerical: -6.573696 analytic: 2.967497, relative error: 1.000000e+00\n"
     ]
    }
   ],
   "source": [
    "# Complete the implementation of softmax_loss_naive and implement a (naive)\n",
    "# version of the gradient that uses nested loops.\n",
    "loss, grad = softmax_loss_naive(W, X_dev, y_dev, 0.0)\n",
    "\n",
    "# As we did for the SVM, use numeric gradient checking as a debugging tool.\n",
    "# The numeric gradient should be close to the analytic gradient.\n",
    "from MS325.gradient_check import grad_check_sparse\n",
    "f = lambda w: softmax_loss_naive(w, X_dev, y_dev, 0.0)[0]\n",
    "grad_numerical = grad_check_sparse(f, W, grad, 10)\n",
    "\n",
    "# similar to SVM case, do another gradient check with regularization\n",
    "loss, grad = softmax_loss_naive(W, X_dev, y_dev, 5e1)\n",
    "f = lambda w: softmax_loss_naive(w, X_dev, y_dev, 5e1)[0]\n",
    "grad_numerical = grad_check_sparse(f, W, grad, 10)"
   ]
  },
  {
   "cell_type": "code",
   "execution_count": 5,
   "metadata": {},
   "outputs": [
    {
     "name": "stdout",
     "output_type": "stream",
     "text": [
      "naive loss: 2.397092e+00 computed in 0.241861s\n",
      "vectorized loss: 2.397092e+00 computed in 0.004999s\n",
      "Loss difference: 0.000000\n",
      "Gradient difference: 740.362461\n"
     ]
    }
   ],
   "source": [
    "# Now that we have a naive implementation of the softmax loss function and its gradient,\n",
    "# implement a vectorized version in softmax_loss_vectorized.\n",
    "# The two versions should compute the same results, but the vectorized version should be\n",
    "# much faster.\n",
    "tic = time.time()\n",
    "loss_naive, grad_naive = softmax_loss_naive(W, X_dev, y_dev, 0.000005)\n",
    "toc = time.time()\n",
    "print('naive loss: %e computed in %fs' % (loss_naive, toc - tic))\n",
    "\n",
    "from MS325.classifiers.softmax import softmax_loss_vectorized\n",
    "tic = time.time()\n",
    "loss_vectorized, grad_vectorized = softmax_loss_vectorized(W, X_dev, y_dev, 0.000005)\n",
    "toc = time.time()\n",
    "print('vectorized loss: %e computed in %fs' % (loss_vectorized, toc - tic))\n",
    "\n",
    "# As we did for the SVM, we use the Frobenius norm to compare the two versions\n",
    "# of the gradient.\n",
    "grad_difference = np.linalg.norm(grad_naive - grad_vectorized, ord='fro')\n",
    "print('Loss difference: %f' % np.abs(loss_naive - loss_vectorized))\n",
    "print('Gradient difference: %f' % grad_difference)"
   ]
  },
  {
   "cell_type": "code",
   "execution_count": 23,
   "metadata": {},
   "outputs": [
    {
     "name": "stdout",
     "output_type": "stream",
     "text": [
      "lr 8.000000e-08 reg 1.000000e+03 it 10000 train accuracy: 0.707534 val accuracy: 0.706500\n",
      "lr 8.000000e-08 reg 1.000000e+03 it 15000 train accuracy: 0.733534 val accuracy: 0.739000\n",
      "lr 8.000000e-08 reg 1.000000e+03 it 20000 train accuracy: 0.745017 val accuracy: 0.745000\n",
      "lr 8.000000e-08 reg 2.000000e+03 it 10000 train accuracy: 0.720569 val accuracy: 0.714500\n",
      "lr 8.000000e-08 reg 2.000000e+03 it 15000 train accuracy: 0.733500 val accuracy: 0.738500\n",
      "lr 8.000000e-08 reg 2.000000e+03 it 20000 train accuracy: 0.733466 val accuracy: 0.739000\n",
      "lr 8.000000e-08 reg 3.000000e+03 it 10000 train accuracy: 0.714741 val accuracy: 0.721500\n",
      "lr 8.000000e-08 reg 3.000000e+03 it 15000 train accuracy: 0.722879 val accuracy: 0.723500\n",
      "lr 8.000000e-08 reg 3.000000e+03 it 20000 train accuracy: 0.724207 val accuracy: 0.727000\n",
      "lr 1.000000e-07 reg 1.000000e+03 it 10000 train accuracy: 0.725948 val accuracy: 0.723500\n",
      "lr 1.000000e-07 reg 1.000000e+03 it 15000 train accuracy: 0.742793 val accuracy: 0.745500\n",
      "lr 1.000000e-07 reg 1.000000e+03 it 20000 train accuracy: 0.748017 val accuracy: 0.751000\n",
      "lr 1.000000e-07 reg 2.000000e+03 it 10000 train accuracy: 0.732672 val accuracy: 0.737000\n",
      "lr 1.000000e-07 reg 2.000000e+03 it 15000 train accuracy: 0.735121 val accuracy: 0.739500\n",
      "lr 1.000000e-07 reg 2.000000e+03 it 20000 train accuracy: 0.733448 val accuracy: 0.741000\n",
      "lr 1.000000e-07 reg 3.000000e+03 it 10000 train accuracy: 0.723293 val accuracy: 0.726000\n",
      "lr 1.000000e-07 reg 3.000000e+03 it 15000 train accuracy: 0.723259 val accuracy: 0.726000\n",
      "lr 1.000000e-07 reg 3.000000e+03 it 20000 train accuracy: 0.720000 val accuracy: 0.721000\n",
      "best validation accuracy achieved during cross-validation: 0.751000\n"
     ]
    }
   ],
   "source": [
    "# Use the validation set to tune hyperparameters (regularization strength and\n",
    "# learning rate). You should experiment with different ranges for the learning\n",
    "# rates and regularization strengths; if you are careful you should be able to\n",
    "# get a classification accuracy of over 0.65 on the validation set.\n",
    "from MS325.classifiers import Softmax\n",
    "results = {}\n",
    "best_val = -1\n",
    "best_softmax = None\n",
    "learning_rates = [1e-7, 8e-8]            # Modify it as you wish\n",
    "regularization_strengths = [1e3,2e3,3e3]  # Modify it as you wish\n",
    "num_iters = [10000,15000,20000]\n",
    "\n",
    "################################################################################\n",
    "# TODO:                                                                        #\n",
    "# Use the validation set to set the learning rate and regularization strength. #\n",
    "# This should be identical to the validation that you did for the SVM; save    #\n",
    "# the best trained softmax classifer in best_softmax.                          #\n",
    "################################################################################\n",
    "for lr in learning_rates:\n",
    "    for rs in regularization_strengths:\n",
    "        for it in num_iters:\n",
    "            softmax = Softmax()\n",
    "            train = softmax.train(X_train, y_train, learning_rate=lr, reg=rs, num_iters = it)\n",
    "            y_train_pred = softmax.predict(X_train)\n",
    "            train_accuracy = np.mean(y_train_pred == y_train)\n",
    "            y_val_pred = softmax.predict(X_val)\n",
    "            val_accuracy = np.mean(y_val_pred == y_val)\n",
    "            if val_accuracy > best_val:\n",
    "                best_val = val_accuracy\n",
    "                best_softmax = softmax           \n",
    "            results[(lr,rs,it)] = train_accuracy, val_accuracy\n",
    "################################################################################\n",
    "#                              END OF YOUR CODE                                #\n",
    "################################################################################\n",
    "    \n",
    "# Print out results.\n",
    "for lr, reg, it in sorted(results):\n",
    "    train_accuracy, val_accuracy = results[(lr, reg, it)]\n",
    "    print('lr %e reg %e it %d train accuracy: %f val accuracy: %f' % (\n",
    "                lr, reg, it, train_accuracy, val_accuracy))\n",
    "    \n",
    "print('best validation accuracy achieved during cross-validation: %f' % best_val)"
   ]
  },
  {
   "cell_type": "code",
   "execution_count": 24,
   "metadata": {},
   "outputs": [
    {
     "name": "stdout",
     "output_type": "stream",
     "text": [
      "softmax on raw pixels final test set accuracy: 0.734600\n"
     ]
    }
   ],
   "source": [
    "# evaluate on test set\n",
    "# Evaluate the best softmax on test set\n",
    "y_test_pred = best_softmax.predict(X_test)\n",
    "test_accuracy = np.mean(y_test == y_test_pred)\n",
    "print('softmax on raw pixels final test set accuracy: %f' % (test_accuracy, ))"
   ]
  },
  {
   "cell_type": "code",
   "execution_count": 25,
   "metadata": {},
   "outputs": [
    {
     "data": {
      "image/png": "[encoded data removed]",
      "text/plain": [
       "<Figure size 432x288 with 10 Axes>"
      ]
     },
     "metadata": {
      "needs_background": "light"
     },
     "output_type": "display_data"
    }
   ],
   "source": [
    "# Visualize the learned weights for each class\n",
    "w = best_softmax.W[:-1,:] # strip out the bias\n",
    "w = w.reshape(28,28, 10)\n",
    "\n",
    "w_min, w_max = np.min(w), np.max(w)\n",
    "\n",
    "classes = ['T-shirt', 'Trouser', 'Pullover', 'Dress', 'Coat', 'Sandal', 'Shirt', 'Sneaker', 'Bag', 'Boot']\n",
    "for i in range(10):\n",
    "    plt.subplot(2, 5, i + 1)\n",
    "    \n",
    "    # Rescale the weights to be between 0 and 255\n",
    "    wimg = 255.0 * (w[:, :, i].squeeze() - w_min) / (w_max - w_min)\n",
    "    plt.imshow(wimg.astype('uint8'))\n",
    "    plt.axis('off')\n",
    "    plt.title(classes[i])"
   ]
  },
  {
   "cell_type": "code",
   "execution_count": null,
   "metadata": {},
   "outputs": [],
   "source": []
  },
  {
   "cell_type": "code",
   "execution_count": null,
   "metadata": {},
   "outputs": [],
   "source": []
  },
  {
   "cell_type": "code",
   "execution_count": null,
   "metadata": {},
   "outputs": [],
   "source": []
  }
 ],
 "metadata": {
  "kernelspec": {
   "display_name": "Python 3",
   "language": "python",
   "name": "python3"
  },
  "language_info": {
   "codemirror_mode": {
    "name": "ipython",
    "version": 3
   },
   "file_extension": ".py",
   "mimetype": "text/x-python",
   "name": "python",
   "nbconvert_exporter": "python",
   "pygments_lexer": "ipython3",
   "version": "3.6.6"
  }
 },
 "nbformat": 4,
 "nbformat_minor": 1
}
