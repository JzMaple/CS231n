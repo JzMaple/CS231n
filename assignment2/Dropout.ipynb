{
 "cells": [
  {
   "cell_type": "markdown",
   "metadata": {},
   "source": [
    "# Dropout\n",
    "Dropout [1] is a technique for regularizing neural networks by randomly setting some features to zero during the forward pass. In this exercise you will implement a dropout layer and modify your fully-connected network to optionally use dropout.\n",
    "\n",
    "[1] Geoffrey E. Hinton et al, \"Improving neural networks by preventing co-adaptation of feature detectors\", arXiv 2012"
   ]
  },
  {
   "cell_type": "code",
   "execution_count": 1,
   "metadata": {},
   "outputs": [],
   "source": [
    "# As usual, a bit of setup\n",
    "from __future__ import print_function\n",
    "import time\n",
    "import numpy as np\n",
    "import matplotlib.pyplot as plt\n",
    "from MS325.classifiers.fc_net import *\n",
    "from MS325.data_utils import get_mnist_data\n",
    "from MS325.gradient_check import eval_numerical_gradient, eval_numerical_gradient_array\n",
    "from MS325.solver import Solver\n",
    "\n",
    "%matplotlib inline\n",
    "plt.rcParams['figure.figsize'] = (10.0, 8.0) # set default size of plots\n",
    "plt.rcParams['image.interpolation'] = 'nearest'\n",
    "plt.rcParams['image.cmap'] = 'gray'\n",
    "\n",
    "# for auto-reloading external modules\n",
    "# see http://stackoverflow.com/questions/1907993/autoreload-of-modules-in-ipython\n",
    "%load_ext autoreload\n",
    "%autoreload 2\n",
    "\n",
    "def rel_error(x, y):\n",
    "  \"\"\" returns relative error \"\"\"\n",
    "  return np.max(np.abs(x - y) / (np.maximum(1e-8, np.abs(x) + np.abs(y))))"
   ]
  },
  {
   "cell_type": "code",
   "execution_count": 2,
   "metadata": {},
   "outputs": [
    {
     "name": "stdout",
     "output_type": "stream",
     "text": [
      "X_train:  (58000, 1, 28, 28)\n",
      "y_train:  (58000,)\n",
      "X_val:  (2000, 1, 28, 28)\n",
      "y_val:  (2000,)\n",
      "X_test:  (10000, 1, 28, 28)\n",
      "y_test:  (10000,)\n"
     ]
    }
   ],
   "source": [
    "# Load the (preprocessed) Fashion_mnist data.\n",
    "\n",
    "data = get_mnist_data()\n",
    "for k, v in data.items():\n",
    "  print('%s: ' % k, v.shape)"
   ]
  },
  {
   "cell_type": "markdown",
   "metadata": {},
   "source": [
    "# Dropout forward pass\n",
    "In the file `MS325/layers.py`, implement the forward pass for dropout. Since dropout behaves differently during training and testing, make sure to implement the operation for both modes.\n",
    "\n",
    "Once you have done so, run the cell below to test your implementation."
   ]
  },
  {
   "cell_type": "code",
   "execution_count": 3,
   "metadata": {},
   "outputs": [
    {
     "name": "stdout",
     "output_type": "stream",
     "text": [
      "Running tests with p =  0.3\n",
      "Mean of input:  10.001839416309913\n",
      "Mean of train-time output:  9.958552948014733\n",
      "Mean of test-time output:  10.001839416309913\n",
      "Fraction of train-time output set to zero:  0.70108\n",
      "Fraction of test-time output set to zero:  0.0\n",
      "\n",
      "Running tests with p =  0.6\n",
      "Mean of input:  10.001839416309913\n",
      "Mean of train-time output:  9.998583084004306\n",
      "Mean of test-time output:  10.001839416309913\n",
      "Fraction of train-time output set to zero:  0.4001\n",
      "Fraction of test-time output set to zero:  0.0\n",
      "\n",
      "Running tests with p =  0.75\n",
      "Mean of input:  10.001839416309913\n",
      "Mean of train-time output:  9.98398543154468\n",
      "Mean of test-time output:  10.001839416309913\n",
      "Fraction of train-time output set to zero:  0.251368\n",
      "Fraction of test-time output set to zero:  0.0\n",
      "\n"
     ]
    }
   ],
   "source": [
    "np.random.seed(325)\n",
    "x = np.random.randn(500, 500) + 10\n",
    "\n",
    "for p in [0.3, 0.6, 0.75]:\n",
    "  out, _ = dropout_forward(x, {'mode': 'train', 'p': p})\n",
    "  out_test, _ = dropout_forward(x, {'mode': 'test', 'p': p})\n",
    "\n",
    "  print('Running tests with p = ', p)\n",
    "  print('Mean of input: ', x.mean())\n",
    "  print('Mean of train-time output: ', out.mean())\n",
    "  print('Mean of test-time output: ', out_test.mean())\n",
    "  print('Fraction of train-time output set to zero: ', (out == 0).mean())\n",
    "  print('Fraction of test-time output set to zero: ', (out_test == 0).mean())\n",
    "  print()"
   ]
  },
  {
   "cell_type": "markdown",
   "metadata": {},
   "source": [
    "# Dropout backward pass\n",
    "In the file `MS325/layers.py`, implement the backward pass for dropout. After doing so, run the following cell to numerically gradient-check your implementation."
   ]
  },
  {
   "cell_type": "code",
   "execution_count": 4,
   "metadata": {},
   "outputs": [
    {
     "name": "stdout",
     "output_type": "stream",
     "text": [
      "dx relative error:  5.44561089270826e-11\n"
     ]
    }
   ],
   "source": [
    "np.random.seed(325)\n",
    "x = np.random.randn(10, 10) + 10\n",
    "dout = np.random.randn(*x.shape)\n",
    "\n",
    "dropout_param = {'mode': 'train', 'p': 0.8, 'seed': 123}\n",
    "out, cache = dropout_forward(x, dropout_param)\n",
    "dx = dropout_backward(dout, cache)\n",
    "dx_num = eval_numerical_gradient_array(lambda xx: dropout_forward(xx, dropout_param)[0], x, dout)\n",
    "\n",
    "print('dx relative error: ', rel_error(dx, dx_num))"
   ]
  },
  {
   "cell_type": "markdown",
   "metadata": {},
   "source": [
    "# Fully-connected nets with Dropout\n",
    "In the file `MS325/classifiers/fc_net.py`, modify your implementation to use dropout. Specificially, if the constructor the the net receives a nonzero value for the `dropout` parameter, then the net should add dropout immediately after every ReLU nonlinearity. After doing so, run the following to numerically gradient-check your implementation."
   ]
  },
  {
   "cell_type": "code",
   "execution_count": 5,
   "metadata": {},
   "outputs": [
    {
     "name": "stdout",
     "output_type": "stream",
     "text": [
      "Running check with dropout =  0\n",
      "Initial loss:  2.30110070212863\n",
      "W1 relative error: 1.89e-07\n",
      "W2 relative error: 1.11e-05\n",
      "W3 relative error: 2.85e-07\n",
      "b1 relative error: 5.74e-09\n",
      "b2 relative error: 2.28e-08\n",
      "b3 relative error: 1.31e-10\n",
      "\n",
      "Running check with dropout =  0.25\n",
      "Initial loss:  2.306773009363666\n",
      "W1 relative error: 1.19e-08\n",
      "W2 relative error: 2.69e-09\n",
      "W3 relative error: 2.19e-09\n",
      "b1 relative error: 1.29e-09\n",
      "b2 relative error: 1.00e+00\n",
      "b3 relative error: 1.01e-10\n",
      "\n",
      "Running check with dropout =  0.5\n",
      "Initial loss:  2.3108116281758253\n",
      "W1 relative error: 1.60e-07\n",
      "W2 relative error: 2.21e-08\n",
      "W3 relative error: 2.33e-06\n",
      "b1 relative error: 7.62e-09\n",
      "b2 relative error: 5.07e-10\n",
      "b3 relative error: 1.44e-10\n",
      "\n"
     ]
    }
   ],
   "source": [
    "np.random.seed(325)\n",
    "N, D, H1, H2, C = 2, 15, 20, 30, 10\n",
    "X = np.random.randn(N, D)\n",
    "y = np.random.randint(C, size=(N,))\n",
    "\n",
    "for dropout in [0, 0.25, 0.5]:\n",
    "  print('Running check with dropout = ', dropout)\n",
    "  model = FullyConnectedNet([H1, H2], input_dim=D, num_classes=C,\n",
    "                            weight_scale=5e-2, dtype=np.float64,\n",
    "                            dropout=dropout, seed=123)\n",
    "\n",
    "  loss, grads = model.loss(X, y)\n",
    "  print('Initial loss: ', loss)\n",
    "\n",
    "  for name in sorted(grads):\n",
    "    f = lambda _: model.loss(X, y)[0]\n",
    "    grad_num = eval_numerical_gradient(f, model.params[name], verbose=False, h=1e-5)\n",
    "    print('%s relative error: %.2e' % (name, rel_error(grad_num, grads[name])))\n",
    "  print()"
   ]
  },
  {
   "cell_type": "markdown",
   "metadata": {},
   "source": [
    "# Regularization experiment\n",
    "As an experiment, we will train a pair of two-layer networks on 500 training examples: one will use no dropout, and one will use a dropout probability of 0.5. We will then visualize the training and validation accuracies of the two networks over time."
   ]
  },
  {
   "cell_type": "code",
   "execution_count": 6,
   "metadata": {
    "scrolled": false
   },
   "outputs": [
    {
     "name": "stdout",
     "output_type": "stream",
     "text": [
      "0\n",
      "(Iteration 1 / 125) loss: 13.350542\n",
      "(Epoch 0 / 25) train acc: 0.108000; val_acc: 0.105000\n"
     ]
    },
    {
     "name": "stderr",
     "output_type": "stream",
     "text": [
      "C:\\Users\\JZT\\Desktop\\dl\\assignment2\\MS325\\optim.py:147: RuntimeWarning: invalid value encountered in sqrt\n",
      "  next_x = x - config['learning_rate'] * mb / (np.sqrt(vb) + config['epsilon'])\n"
     ]
    },
    {
     "name": "stdout",
     "output_type": "stream",
     "text": [
      "(Epoch 1 / 25) train acc: 0.170000; val_acc: 0.144500\n",
      "(Epoch 2 / 25) train acc: 0.202000; val_acc: 0.190000\n",
      "(Epoch 3 / 25) train acc: 0.236000; val_acc: 0.201000\n",
      "(Epoch 4 / 25) train acc: 0.360000; val_acc: 0.287500\n",
      "(Epoch 5 / 25) train acc: 0.364000; val_acc: 0.292000\n",
      "(Epoch 6 / 25) train acc: 0.422000; val_acc: 0.305500\n",
      "(Epoch 7 / 25) train acc: 0.440000; val_acc: 0.351000\n",
      "(Epoch 8 / 25) train acc: 0.454000; val_acc: 0.355500\n",
      "(Epoch 9 / 25) train acc: 0.502000; val_acc: 0.363000\n",
      "(Epoch 10 / 25) train acc: 0.520000; val_acc: 0.400000\n",
      "(Epoch 11 / 25) train acc: 0.572000; val_acc: 0.406500\n",
      "(Epoch 12 / 25) train acc: 0.612000; val_acc: 0.420000\n",
      "(Epoch 13 / 25) train acc: 0.630000; val_acc: 0.433500\n",
      "(Epoch 14 / 25) train acc: 0.642000; val_acc: 0.436500\n",
      "(Epoch 15 / 25) train acc: 0.652000; val_acc: 0.431500\n",
      "(Epoch 16 / 25) train acc: 0.678000; val_acc: 0.449000\n",
      "(Epoch 17 / 25) train acc: 0.716000; val_acc: 0.477500\n",
      "(Epoch 18 / 25) train acc: 0.692000; val_acc: 0.452000\n",
      "(Epoch 19 / 25) train acc: 0.712000; val_acc: 0.474000\n",
      "(Epoch 20 / 25) train acc: 0.718000; val_acc: 0.466000\n",
      "(Iteration 101 / 125) loss: 0.826131\n",
      "(Epoch 21 / 25) train acc: 0.738000; val_acc: 0.482500\n",
      "(Epoch 22 / 25) train acc: 0.752000; val_acc: 0.483500\n",
      "(Epoch 23 / 25) train acc: 0.802000; val_acc: 0.499500\n",
      "(Epoch 24 / 25) train acc: 0.806000; val_acc: 0.505000\n",
      "(Epoch 25 / 25) train acc: 0.792000; val_acc: 0.505000\n",
      "0.5\n",
      "(Iteration 1 / 125) loss: 14.757585\n",
      "(Epoch 0 / 25) train acc: 0.046000; val_acc: 0.057500\n",
      "(Epoch 1 / 25) train acc: 0.134000; val_acc: 0.134500\n",
      "(Epoch 2 / 25) train acc: 0.182000; val_acc: 0.167500\n",
      "(Epoch 3 / 25) train acc: 0.226000; val_acc: 0.198000\n",
      "(Epoch 4 / 25) train acc: 0.318000; val_acc: 0.284500\n",
      "(Epoch 5 / 25) train acc: 0.386000; val_acc: 0.305500\n",
      "(Epoch 6 / 25) train acc: 0.444000; val_acc: 0.344000\n",
      "(Epoch 7 / 25) train acc: 0.494000; val_acc: 0.389500\n",
      "(Epoch 8 / 25) train acc: 0.514000; val_acc: 0.396500\n",
      "(Epoch 9 / 25) train acc: 0.576000; val_acc: 0.412500\n",
      "(Epoch 10 / 25) train acc: 0.592000; val_acc: 0.429000\n",
      "(Epoch 11 / 25) train acc: 0.646000; val_acc: 0.454500\n",
      "(Epoch 12 / 25) train acc: 0.646000; val_acc: 0.461500\n",
      "(Epoch 13 / 25) train acc: 0.662000; val_acc: 0.472500\n",
      "(Epoch 14 / 25) train acc: 0.648000; val_acc: 0.470000\n",
      "(Epoch 15 / 25) train acc: 0.706000; val_acc: 0.489500\n",
      "(Epoch 16 / 25) train acc: 0.716000; val_acc: 0.506500\n",
      "(Epoch 17 / 25) train acc: 0.712000; val_acc: 0.497000\n",
      "(Epoch 18 / 25) train acc: 0.760000; val_acc: 0.518500\n",
      "(Epoch 19 / 25) train acc: 0.750000; val_acc: 0.507000\n",
      "(Epoch 20 / 25) train acc: 0.758000; val_acc: 0.524000\n",
      "(Iteration 101 / 125) loss: 1.314077\n",
      "(Epoch 21 / 25) train acc: 0.782000; val_acc: 0.532000\n",
      "(Epoch 22 / 25) train acc: 0.782000; val_acc: 0.532000\n",
      "(Epoch 23 / 25) train acc: 0.780000; val_acc: 0.514000\n",
      "(Epoch 24 / 25) train acc: 0.796000; val_acc: 0.531500\n",
      "(Epoch 25 / 25) train acc: 0.818000; val_acc: 0.567500\n"
     ]
    }
   ],
   "source": [
    "# Train two identical nets, one with dropout and one without\n",
    "np.random.seed(325)\n",
    "num_train = 500\n",
    "small_data = {\n",
    "  'X_train': data['X_train'][:num_train],\n",
    "  'y_train': data['y_train'][:num_train],\n",
    "  'X_val': data['X_val'],\n",
    "  'y_val': data['y_val'],\n",
    "}\n",
    "\n",
    "solvers = {}\n",
    "dropout_choices = [0, 0.5]\n",
    "for dropout in dropout_choices:\n",
    "  model = FullyConnectedNet([500], dropout=dropout)\n",
    "  print(dropout)\n",
    "\n",
    "  solver = Solver(model, small_data,\n",
    "                  num_epochs=25, batch_size=100,\n",
    "                  update_rule='adam',\n",
    "                  optim_config={\n",
    "                    'learning_rate': 5e-5,\n",
    "                  },\n",
    "                  verbose=True, print_every=100)\n",
    "  solver.train()\n",
    "  solvers[dropout] = solver"
   ]
  },
  {
   "cell_type": "code",
   "execution_count": 7,
   "metadata": {},
   "outputs": [
    {
     "data": {
      "image/png": "[encoded data removed]",
      "text/plain": [
       "<Figure size 1080x1080 with 2 Axes>"
      ]
     },
     "metadata": {
      "needs_background": "light"
     },
     "output_type": "display_data"
    }
   ],
   "source": [
    "# Plot train and validation accuracies of the two models\n",
    "\n",
    "train_accs = []\n",
    "val_accs = []\n",
    "for dropout in dropout_choices:\n",
    "  solver = solvers[dropout]\n",
    "  train_accs.append(solver.train_acc_history[-1])\n",
    "  val_accs.append(solver.val_acc_history[-1])\n",
    "\n",
    "plt.subplot(3, 1, 1)\n",
    "for dropout in dropout_choices:\n",
    "  plt.plot(solvers[dropout].train_acc_history, 'o', label='%.2f dropout' % dropout)\n",
    "plt.title('Train accuracy')\n",
    "plt.xlabel('Epoch')\n",
    "plt.ylabel('Accuracy')\n",
    "plt.legend(ncol=2, loc='lower right')\n",
    "  \n",
    "plt.subplot(3, 1, 2)\n",
    "for dropout in dropout_choices:\n",
    "  plt.plot(solvers[dropout].val_acc_history, 'o', label='%.2f dropout' % dropout)\n",
    "plt.title('Val accuracy')\n",
    "plt.xlabel('Epoch')\n",
    "plt.ylabel('Accuracy')\n",
    "plt.legend(ncol=2, loc='lower right')\n",
    "\n",
    "plt.gcf().set_size_inches(15, 15)\n",
    "plt.show()"
   ]
  },
  {
   "cell_type": "markdown",
   "metadata": {},
   "source": [
    "# Question\n",
    "Explain what you see in this experiment. What does it suggest about dropout?"
   ]
  },
  {
   "cell_type": "markdown",
   "metadata": {},
   "source": [
    "# Answer\n",
    "\n",
    "Dropout prevent overfitting. As we can see from the train loss, dropout is around 1.3 while the original methods is about 0.8. Without dropout, the gap between train accuracy and validation accuracy can be 0.2 while it decrease to 0.15 by using dropout."
   ]
  },
  {
   "cell_type": "code",
   "execution_count": null,
   "metadata": {},
   "outputs": [],
   "source": []
  }
 ],
 "metadata": {
  "kernelspec": {
   "display_name": "Python 3",
   "language": "python",
   "name": "python3"
  },
  "language_info": {
   "codemirror_mode": {
    "name": "ipython",
    "version": 3
   },
   "file_extension": ".py",
   "mimetype": "text/x-python",
   "name": "python",
   "nbconvert_exporter": "python",
   "pygments_lexer": "ipython3",
   "version": "3.6.5"
  }
 },
 "nbformat": 4,
 "nbformat_minor": 1
}
